{
  "nbformat": 4,
  "nbformat_minor": 0,
  "metadata": {
    "colab": {
      "name": "Abimanyu N K.ipynb",
      "provenance": []
    },
    "kernelspec": {
      "name": "python3",
      "display_name": "Python 3"
    },
    "language_info": {
      "name": "python"
    }
  },
  "cells": [
    {
      "cell_type": "code",
      "metadata": {
        "id": "63RTMhH6LR3h"
      },
      "source": [
        "from keras.datasets import mnist\n",
        "data = mnist.load_data()"
      ],
      "execution_count": 7,
      "outputs": []
    },
    {
      "cell_type": "code",
      "metadata": {
        "id": "zxdfLJDFNweA"
      },
      "source": [
        "((X_train,y_train), (X_test,y_test)) = data"
      ],
      "execution_count": 8,
      "outputs": []
    },
    {
      "cell_type": "code",
      "metadata": {
        "id": "262swGRuOPpq"
      },
      "source": [
        "X_train = X_train.reshape((X_train.shape[0], 28*28)).astype('float32')\n",
        "X_test = X_test.reshape((X_test.shape[0],28*28)).astype('float32')"
      ],
      "execution_count": 9,
      "outputs": []
    },
    {
      "cell_type": "code",
      "metadata": {
        "id": "ZIPwSJyDPOlk"
      },
      "source": [
        "X_train = X_train / 255\n",
        "X_test = X_test / 255"
      ],
      "execution_count": 12,
      "outputs": []
    },
    {
      "cell_type": "code",
      "metadata": {
        "colab": {
          "base_uri": "https://localhost:8080/"
        },
        "id": "Uak2SwBYPmxv",
        "outputId": "02e62af8-b892-420b-b280-fed6e172e74c"
      },
      "source": [
        "from keras.utils import np_utils\n",
        "print(y_test.shape)\n",
        "y_train = np_utils.to_categorical(y_train)\n",
        "y_test = np_utils.to_categorical(y_test)\n",
        "num_classes = y_test.shape[1]\n",
        "print(y_test.shape)"
      ],
      "execution_count": 14,
      "outputs": [
        {
          "output_type": "stream",
          "text": [
            "(10000,)\n",
            "(10000, 10)\n"
          ],
          "name": "stdout"
        }
      ]
    },
    {
      "cell_type": "code",
      "metadata": {
        "id": "iZQ5ap1sRFQm"
      },
      "source": [
        "from keras.models import Sequential\n",
        "from keras.layers import Dense"
      ],
      "execution_count": 15,
      "outputs": []
    },
    {
      "cell_type": "code",
      "metadata": {
        "id": "897xit48RYVZ"
      },
      "source": [
        "model = Sequential()\n",
        "model.add(Dense(32,input_dim = 28*28,activation='relu'))\n",
        "model.add(Dense(64, activation='relu'))\n",
        "model.add(Dense(10, activation='softmax'))"
      ],
      "execution_count": 17,
      "outputs": []
    },
    {
      "cell_type": "code",
      "metadata": {
        "id": "C0FOGE0iSitn"
      },
      "source": [
        "model.compile(loss='categorical_crossentropy',optimizer='adam',metrics=['accuracy'])"
      ],
      "execution_count": 18,
      "outputs": []
    },
    {
      "cell_type": "code",
      "metadata": {
        "id": "qKYJ2108TGA-"
      },
      "source": [
        "model.summary()"
      ],
      "execution_count": null,
      "outputs": []
    },
    {
      "cell_type": "code",
      "metadata": {
        "colab": {
          "base_uri": "https://localhost:8080/"
        },
        "id": "-Nf76VluTMp-",
        "outputId": "49477208-dc09-47bc-b7e7-2d7225b8a6be"
      },
      "source": [
        "model.fit(X_train,y_train,epochs=10,batch_size=100)"
      ],
      "execution_count": 19,
      "outputs": [
        {
          "output_type": "stream",
          "text": [
            "Epoch 1/10\n",
            "600/600 [==============================] - 2s 2ms/step - loss: 2.3018 - accuracy: 0.1101\n",
            "Epoch 2/10\n",
            "600/600 [==============================] - 1s 2ms/step - loss: 2.3014 - accuracy: 0.1113\n",
            "Epoch 3/10\n",
            "600/600 [==============================] - 1s 2ms/step - loss: 2.3012 - accuracy: 0.1120\n",
            "Epoch 4/10\n",
            "600/600 [==============================] - 1s 2ms/step - loss: 2.3011 - accuracy: 0.1118\n",
            "Epoch 5/10\n",
            "600/600 [==============================] - 1s 2ms/step - loss: 2.3015 - accuracy: 0.1104\n",
            "Epoch 6/10\n",
            "600/600 [==============================] - 1s 2ms/step - loss: 2.3008 - accuracy: 0.1137\n",
            "Epoch 7/10\n",
            "600/600 [==============================] - 1s 2ms/step - loss: 2.3008 - accuracy: 0.1085\n",
            "Epoch 8/10\n",
            "600/600 [==============================] - 1s 2ms/step - loss: 2.2989 - accuracy: 0.1137\n",
            "Epoch 9/10\n",
            "600/600 [==============================] - 1s 2ms/step - loss: 2.2918 - accuracy: 0.1288\n",
            "Epoch 10/10\n",
            "600/600 [==============================] - 1s 2ms/step - loss: 2.2651 - accuracy: 0.1912\n"
          ],
          "name": "stdout"
        },
        {
          "output_type": "execute_result",
          "data": {
            "text/plain": [
              "<tensorflow.python.keras.callbacks.History at 0x7fefabfff990>"
            ]
          },
          "metadata": {
            "tags": []
          },
          "execution_count": 19
        }
      ]
    },
    {
      "cell_type": "code",
      "metadata": {
        "colab": {
          "base_uri": "https://localhost:8080/"
        },
        "id": "Ke_xc6dcTlmX",
        "outputId": "f7b552c8-7552-406a-be13-4e655dd6396a"
      },
      "source": [
        "scores = model.evaluate(X_test,y_test)\n",
        "print(scores)"
      ],
      "execution_count": 21,
      "outputs": [
        {
          "output_type": "stream",
          "text": [
            "313/313 [==============================] - 0s 1ms/step - loss: 2.2197 - accuracy: 0.1907\n",
            "[2.219697952270508, 0.1906999945640564]\n"
          ],
          "name": "stdout"
        }
      ]
    }
  ]
}